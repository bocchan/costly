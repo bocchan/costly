{
 "cells": [
  {
   "cell_type": "code",
   "execution_count": 50,
   "metadata": {
    "collapsed": false
   },
   "outputs": [
    {
     "data": {
      "text/plain": [
       "'import statsmodels.discrete.discrete_model.Probit\\xe3\\x81\\xa7import\\xe3\\x81\\xa7\\xe3\\x81\\x8d\\xe3\\x81\\xaa\\xe3\\x81\\x84\\xe3\\x81\\xae\\xe3\\x81\\xaf\\xe3\\x81\\xaa\\xe3\\x81\\x9c\\xef\\xbc\\x9f'"
      ]
     },
     "execution_count": 50,
     "metadata": {},
     "output_type": "execute_result"
    }
   ],
   "source": [
    "from __future__ import division\n",
    "import pandas as pd\n",
    "import matplotlib.pyplot as plt\n",
    "import statsmodels.formula.api as smf\n",
    "import statsmodels.discrete.discrete_model as smd\n",
    "%matplotlib inline\n",
    "\"\"\"import statsmodels.discrete.discrete_model.Probitでimportできないのはなぜ？\"\"\""
   ]
  },
  {
   "cell_type": "code",
   "execution_count": 3,
   "metadata": {
    "collapsed": false,
    "scrolled": true
   },
   "outputs": [],
   "source": [
    "df = pd.read_table('punnoise_data.txt')"
   ]
  },
  {
   "cell_type": "code",
   "execution_count": 4,
   "metadata": {
    "collapsed": false
   },
   "outputs": [],
   "source": [
    "treat = df[\"treat\"]"
   ]
  },
  {
   "cell_type": "code",
   "execution_count": 5,
   "metadata": {
    "collapsed": false
   },
   "outputs": [],
   "source": [
    "df_noise = df[df[\"noise\"]==1]\n",
    "df_nonoise = df[df[\"noise\"]==0]"
   ]
  },
  {
   "cell_type": "code",
   "execution_count": 6,
   "metadata": {
    "collapsed": false
   },
   "outputs": [],
   "source": [
    "df_noise_nopun = df_noise[df_noise[\"punishment\"]==0]\n",
    "df_noise_reg = df_noise[df_noise[\"p_reg\"]==1]\n",
    "df_noise_str = df_noise[df_noise[\"p_strong\"]==1]\n",
    "df_nonoise_nopun = df_nonoise[df_nonoise[\"punishment\"]==0]\n",
    "df_nonoise_reg = df_nonoise[df_nonoise[\"p_reg\"]==1]\n",
    "df_nonoise_str = df_nonoise[df_nonoise[\"p_strong\"]==1]"
   ]
  },
  {
   "cell_type": "code",
   "execution_count": 16,
   "metadata": {
    "collapsed": false
   },
   "outputs": [
    {
     "name": "stdout",
     "output_type": "stream",
     "text": [
      "(57, 57, 54, 57, 60, 54)\n"
     ]
    }
   ],
   "source": [
    "n1 = df_nonoise_nopun[\"group_id\"].value_counts().count() *3\n",
    "n2 = df_nonoise_reg[\"group_id\"].value_counts().count() *3\n",
    "n3 = df_nonoise_str[\"group_id\"].value_counts().count() *3\n",
    "n4 = df_noise_nopun[\"group_id\"].value_counts().count() *3\n",
    "n5 = df_noise_reg[\"group_id\"].value_counts().count() *3\n",
    "n6 = df_noise_str[\"group_id\"].value_counts().count() *3\n",
    "\n",
    "print(n1, n2, n3, n4, n5, n6)"
   ]
  },
  {
   "cell_type": "code",
   "execution_count": 17,
   "metadata": {
    "collapsed": false,
    "scrolled": false
   },
   "outputs": [
    {
     "name": "stdout",
     "output_type": "stream",
     "text": [
      "(5.5929824561403505, 12.4, 17.607407407407408, 4.0350877192982457, 9.5999999999999996, 16.037037037037038)\n"
     ]
    }
   ],
   "source": [
    "Avecon1 = df_nonoise_nopun[\"contribution\"].sum()/df_nonoise_nopun[\"noise\"].size\n",
    "Avecon2 = df_nonoise_reg[\"contribution\"].sum()/df_nonoise_reg[\"noise\"].size\n",
    "Avecon3 = df_nonoise_str[\"contribution\"].sum() / df_nonoise_str[\"noise\"].size\n",
    "Avecon4 = df_noise_nopun[\"contribution\"].sum()/df_noise_nopun[\"noise\"].size\n",
    "Avecon5 = df_noise_reg[\"contribution\"].sum()/df_noise_reg[\"noise\"].size\n",
    "Avecon6 = df_noise_str[\"contribution\"].sum()/df_noise_str[\"noise\"].size\n",
    "\n",
    "print (Avecon1, Avecon2, Avecon3, Avecon4, Avecon5, Avecon6)"
   ]
  },
  {
   "cell_type": "code",
   "execution_count": 18,
   "metadata": {
    "collapsed": false
   },
   "outputs": [
    {
     "name": "stdout",
     "output_type": "stream",
     "text": [
      "(0.64000000000000001, 0.47925925925925927, 1.446, 0.64814814814814814)\n"
     ]
    }
   ],
   "source": [
    "Avepun2 = df_nonoise_reg[\"punishment_cost\"].sum() / df_nonoise_nopun[\"noise\"].size\n",
    "Avepun3 = df_nonoise_str[\"punishment_cost\"].sum() / df_nonoise_str[\"noise\"].size\n",
    "Avepun5 = df_noise_reg[\"punishment_cost\"].sum() / df_noise_reg[\"noise\"].size\n",
    "Avepun6 = df_noise_str[\"punishment_cost\"].sum() / df_noise_str[\"noise\"].size\n",
    "\n",
    "print(Avepun2, Avepun3, Avepun5, Avepun6)"
   ]
  },
  {
   "cell_type": "code",
   "execution_count": 19,
   "metadata": {
    "collapsed": false
   },
   "outputs": [
    {
     "name": "stdout",
     "output_type": "stream",
     "text": [
      "(22.796491228070174, 23.656140350877195, 25.448888888888888, 22.017543859649123, 19.103666666666665, 23.481481481481481)\n"
     ]
    }
   ],
   "source": [
    "Avepro1 = df_nonoise_nopun[\"income\"].sum()/df_nonoise_nopun[\"noise\"].size\n",
    "Avepro2 = df_nonoise_reg[\"income\"].sum()/df_nonoise_reg[\"noise\"].size\n",
    "Avepro3 = df_nonoise_str[\"income\"].sum()/df_nonoise_str[\"noise\"].size\n",
    "Avepro4 = df_noise_nopun[\"income\"].sum()/df_nonoise_nopun[\"noise\"].size\n",
    "Avepro5 = df_noise_reg[\"income\"].sum()/df_noise_reg[\"noise\"].size\n",
    "Avepro6 = df_noise_str[\"income\"].sum()/df_noise_str[\"noise\"].size\n",
    "print(Avepro1, Avepro2, Avepro3, Avepro4, Avepro5, Avepro6)"
   ]
  },
  {
   "cell_type": "code",
   "execution_count": 43,
   "metadata": {
    "collapsed": false
   },
   "outputs": [],
   "source": [
    "grouped1 = df_nonoise_nopun.groupby(\"round\")[[\"contribution\"]]\n",
    "grouped2 = df_nonoise_reg.groupby(\"round\")[[\"contribution\"]]\n",
    "grouped3 = df_nonoise_str.groupby(\"round\")[[\"contribution\"]]\n",
    "grouped4 = df_noise_nopun.groupby(\"round\")[[\"contribution\"]]\n",
    "grouped5 = df_noise_reg.groupby(\"round\")[[\"contribution\"]]\n",
    "grouped6 = df_noise_str.groupby(\"round\")[[\"contribution\"]]"
   ]
  },
  {
   "cell_type": "code",
   "execution_count": 92,
   "metadata": {
    "collapsed": false
   },
   "outputs": [],
   "source": [
    "groupedmean1 = grouped1.mean()\n",
    "groupedmean2 = grouped2.mean()\n",
    "groupedmean3 = grouped3.mean()\n",
    "groupedmean4 = grouped4.mean()\n",
    "groupedmean5 = grouped5.mean()\n",
    "groupedmean6 = grouped6.mean()"
   ]
  },
  {
   "cell_type": "code",
   "execution_count": 93,
   "metadata": {
    "collapsed": true
   },
   "outputs": [
    {
     "data": {
      "text/plain": [
       "<matplotlib.legend.Legend at 0x25848240>"
      ]
     },
     "execution_count": 93,
     "metadata": {},
     "output_type": "execute_result"
    },
    {
     "data": {
      "image/png": "[encoded data removed]",
      "text/plain": [
       "<matplotlib.figure.Figure at 0x2579a518>"
      ]
     },
     "metadata": {},
     "output_type": "display_data"
    }
   ],
   "source": [
    "fig = plt.figure()\n",
    "ax1 = fig.add_subplot(1,2,1)\n",
    "ax2 = fig.add_subplot(1,2,2, sharey=ax1)\n",
    "plt.subplots_adjust(wspace=0.2, hspace=0.11)\n",
    "groupedmean1.plot(ax=ax1,color=\"k\")\n",
    "groupedmean2.plot(ax=ax1,color=\"g\")\n",
    "groupedmean3.plot(ax=ax1)\n",
    "groupedmean4.plot(ax=ax2,color=\"k\")\n",
    "groupedmean5.plot(ax=ax2,color=\"g\")\n",
    "groupedmean6.plot(ax=ax2)\n",
    "\n",
    "ax1.legend(loc='lower center',bbox_to_anchor=(0.5,-0.5))\n",
    "ax2.legend(loc='lower center',bbox_to_anchor=(0.5,-0.5))"
   ]
  },
  {
   "cell_type": "code",
   "execution_count": 95,
   "metadata": {
    "collapsed": false
   },
   "outputs": [],
   "source": [
    "grouped_avepro1 = df_nonoise_nopun.groupby(\"round\")[[\"income\"]]\n",
    "grouped_avepro2 = df_nonoise_reg.groupby(\"round\")[[\"income\"]]\n",
    "grouped_avepro3 = df_nonoise_str.groupby(\"round\")[[\"income\"]]\n",
    "grouped_avepro4 = df_noise_nopun.groupby(\"round\")[[\"income\"]]\n",
    "grouped_avepro5 = df_noise_reg.groupby(\"round\")[[\"income\"]]\n",
    "grouped_avepro6 = df_noise_str.groupby(\"round\")[[\"income\"]]\n",
    "grouped_pro_mean1 = grouped_avepro1.mean()\n",
    "grouped_pro_mean2 = grouped_avepro2.mean()\n",
    "grouped_pro_mean3 = grouped_avepro3.mean()\n",
    "grouped_pro_mean4 = grouped_avepro4.mean()\n",
    "grouped_pro_mean5 = grouped_avepro5.mean()\n",
    "grouped_pro_mean6 = grouped_avepro6.mean()"
   ]
  },
  {
   "cell_type": "code",
   "execution_count": 96,
   "metadata": {
    "collapsed": false
   },
   "outputs": [
    {
     "data": {
      "text/plain": [
       "<matplotlib.legend.Legend at 0x25e61ba8>"
      ]
     },
     "execution_count": 96,
     "metadata": {},
     "output_type": "execute_result"
    },
    {
     "data": {
      "image/png": "[encoded data removed]",
      "text/plain": [
       "<matplotlib.figure.Figure at 0x25aa6e48>"
      ]
     },
     "metadata": {},
     "output_type": "display_data"
    }
   ],
   "source": [
    "fig = plt.figure()\n",
    "ax1 = fig.add_subplot(1,2,1)\n",
    "ax2 = fig.add_subplot(1,2,2, sharey=ax1)\n",
    "plt.subplots_adjust(wspace=0.2, hspace=0.11)\n",
    "grouped_pro_mean1.plot(ax=ax1,color=\"k\")\n",
    "grouped_pro_mean2.plot(ax=ax1,color=\"g\")\n",
    "grouped_pro_mean3.plot(ax=ax1)\n",
    "grouped_pro_mean4.plot(ax=ax2,color=\"k\")\n",
    "grouped_pro_mean5.plot(ax=ax2,color=\"g\")\n",
    "grouped_pro_mean6.plot(ax=ax2)\n",
    "\n",
    "ax1.legend(loc='lower center',bbox_to_anchor=(0.5,-0.5))\n",
    "ax2.legend(loc='lower center',bbox_to_anchor=(0.5,-0.5))"
   ]
  },
  {
   "cell_type": "code",
   "execution_count": 10,
   "metadata": {
    "collapsed": false
   },
   "outputs": [],
   "source": [
    "DD = df[[\"income\",\"round\",\"p_reg\",\"p_strong\",\n",
    "         \"noise\",\"noise__p_reg\",\"noise__p_strong\"]]"
   ]
  },
  {
   "cell_type": "code",
   "execution_count": 12,
   "metadata": {
    "collapsed": false
   },
   "outputs": [
    {
     "data": {
      "text/plain": [
       "'http://necochan.com/2014/06/07/python-for-economist-6/'"
      ]
     },
     "execution_count": 12,
     "metadata": {},
     "output_type": "execute_result"
    }
   ],
   "source": [
    "\"\"\"http://necochan.com/2014/06/07/python-for-economist-6/から引用\"\"\""
   ]
  },
  {
   "cell_type": "code",
   "execution_count": 36,
   "metadata": {
    "collapsed": true
   },
   "outputs": [],
   "source": [
    "varlst=[\"income\",\"round\",\"p_reg\",\"p_strong\",\n",
    "         \"noise\",\"noise__p_reg\",\"noise__p_strong\"]"
   ]
  },
  {
   "cell_type": "code",
   "execution_count": null,
   "metadata": {
    "collapsed": true
   },
   "outputs": [],
   "source": [
    "pd.scatter_matrix(DD[varlst], diagonal='kde')"
   ]
  },
  {
   "cell_type": "code",
   "execution_count": 37,
   "metadata": {
    "collapsed": false
   },
   "outputs": [],
   "source": [
    "def fml_build(varlst):\n",
    "    varlst.reverse()\n",
    "    fml=varlst.pop()+'~'\n",
    "    while len(varlst)>0:\n",
    "        fml=fml+'+'+varlst.pop()\n",
    "    return fml\n",
    " \n",
    "eq = fml_build(varlst)"
   ]
  },
  {
   "cell_type": "code",
   "execution_count": 38,
   "metadata": {
    "collapsed": false
   },
   "outputs": [
    {
     "data": {
      "text/plain": [
       "'income~+round+p_reg+p_strong+noise+noise__p_reg+noise__p_strong'"
      ]
     },
     "execution_count": 38,
     "metadata": {},
     "output_type": "execute_result"
    }
   ],
   "source": [
    "eq"
   ]
  },
  {
   "cell_type": "code",
   "execution_count": 41,
   "metadata": {
    "collapsed": false
   },
   "outputs": [
    {
     "name": "stdout",
     "output_type": "stream",
     "text": [
      "                            OLS Regression Results                            \n",
      "==============================================================================\n",
      "Dep. Variable:                 income   R-squared:                       0.053\n",
      "Model:                            OLS   Adj. R-squared:                  0.053\n",
      "Method:                 Least Squares   F-statistic:                     158.7\n",
      "Date:                Tue, 06 Oct 2015   Prob (F-statistic):          6.51e-197\n",
      "Time:                        14:15:13   Log-Likelihood:                -60859.\n",
      "No. Observations:               16950   AIC:                         1.217e+05\n",
      "Df Residuals:                   16943   BIC:                         1.218e+05\n",
      "Df Model:                           6                                         \n",
      "Covariance Type:            nonrobust                                         \n",
      "===================================================================================\n",
      "                      coef    std err          t      P>|t|      [95.0% Conf. Int.]\n",
      "-----------------------------------------------------------------------------------\n",
      "Intercept          21.5449      0.203    106.155      0.000        21.147    21.943\n",
      "round               0.0491      0.005     10.510      0.000         0.040     0.058\n",
      "p_reg               0.8596      0.232      3.699      0.000         0.404     1.315\n",
      "p_strong            2.6524      0.236     11.257      0.000         2.191     3.114\n",
      "noise              -0.7789      0.232     -3.351      0.001        -1.235    -0.323\n",
      "noise__p_reg       -3.7735      0.327    -11.553      0.000        -4.414    -3.133\n",
      "noise__p_strong    -1.1885      0.333     -3.566      0.000        -1.842    -0.535\n",
      "==============================================================================\n",
      "Omnibus:                     5641.993   Durbin-Watson:                   1.025\n",
      "Prob(Omnibus):                  0.000   Jarque-Bera (JB):            29816.600\n",
      "Skew:                          -1.514   Prob(JB):                         0.00\n",
      "Kurtosis:                       8.749   Cond. No.                         224.\n",
      "==============================================================================\n",
      "\n",
      "Warnings:\n",
      "[1] Standard Errors assume that the covariance matrix of the errors is correctly specified.\n"
     ]
    }
   ],
   "source": [
    "res = smf.ols(formula=eq, data=df).fit()\n",
    "print res.summary()"
   ]
  },
  {
   "cell_type": "code",
   "execution_count": 42,
   "metadata": {
    "collapsed": false
   },
   "outputs": [
    {
     "data": {
      "text/plain": [
       "'\\xe7\\x96\\x91\\xe5\\x95\\x8f\\xe7\\x82\\xb9\\xe3\\x80\\x81R-squared\\xe3\\x81\\xa8adj.~\\xe3\\x81\\x8c\\xe5\\x90\\x8c\\xe3\\x81\\x98\\xe3\\x81\\xaa\\xe3\\x81\\xae\\xe3\\x81\\xaf\\xe3\\x81\\xaa\\xe3\\x81\\x9c\\xef\\xbc\\x9f\\nintercept\\xe3\\x81\\xa8\\xe3\\x81\\xaf\\np\\xe5\\x80\\xa4\\xe3\\x81\\x8c\\xe3\\x81\\xa9\\xe3\\x82\\x8c\\xe3\\x82\\x82\\xe4\\xbd\\x8e\\xe3\\x81\\x84\\xe3\\x81\\x8c\\xe3\\x81\\x9d\\xe3\\x82\\x8c\\xe3\\x81\\xaf\\xe3\\x83\\x87\\xe3\\x83\\xbc\\xe3\\x82\\xbf\\xe3\\x81\\xa8\\xe9\\x81\\x95\\xe3\\x81\\x86\\n95%conf.\\xe3\\x81\\xa8int.\\xe3\\x81\\xa8\\xe3\\x81\\xaf\\n'"
      ]
     },
     "execution_count": 42,
     "metadata": {},
     "output_type": "execute_result"
    }
   ],
   "source": [
    "\"\"\"疑問点、R-squaredとadj.~が同じなのはなぜ？\n",
    "interceptとは\n",
    "p値がどれも低いがそれはデータと違う\n",
    "95%conf.とint.とは\n",
    "\"\"\""
   ]
  },
  {
   "cell_type": "code",
   "execution_count": 57,
   "metadata": {
    "collapsed": false
   },
   "outputs": [
    {
     "ename": "ValueError",
     "evalue": "endog and exog matrices are different sizes",
     "output_type": "error",
     "traceback": [
      "\u001b[1;31m---------------------------------------------------------------------------\u001b[0m",
      "\u001b[1;31mValueError\u001b[0m                                Traceback (most recent call last)",
      "\u001b[1;32m<ipython-input-57-7ebebeed37eb>\u001b[0m in \u001b[0;36m<module>\u001b[1;34m()\u001b[0m\n\u001b[1;32m----> 1\u001b[1;33m \u001b[0mpro_res\u001b[0m \u001b[1;33m=\u001b[0m \u001b[0msmd\u001b[0m\u001b[1;33m.\u001b[0m\u001b[0mProbit\u001b[0m\u001b[1;33m(\u001b[0m\u001b[0mendog\u001b[0m\u001b[1;33m=\u001b[0m\u001b[1;33m[\u001b[0m\u001b[1;34m\"income\"\u001b[0m\u001b[1;33m,\u001b[0m\u001b[1;34m\"round\"\u001b[0m\u001b[1;33m,\u001b[0m\u001b[1;34m\"p_reg\"\u001b[0m\u001b[1;33m,\u001b[0m\u001b[1;34m\"p_strong\"\u001b[0m\u001b[1;33m,\u001b[0m\u001b[1;34m\"noise\"\u001b[0m\u001b[1;33m,\u001b[0m\u001b[1;34m\"noise__p_reg\"\u001b[0m\u001b[1;33m,\u001b[0m\u001b[1;34m\"noise__p_strong\"\u001b[0m\u001b[1;33m]\u001b[0m\u001b[1;33m,\u001b[0m\u001b[0mexog\u001b[0m\u001b[1;33m=\u001b[0m\u001b[0mDD\u001b[0m\u001b[1;33m)\u001b[0m\u001b[1;33m\u001b[0m\u001b[0m\n\u001b[0m",
      "\u001b[1;32mc:\\anaconda\\lib\\site-packages\\statsmodels\\discrete\\discrete_model.py\u001b[0m in \u001b[0;36m__init__\u001b[1;34m(self, endog, exog, **kwargs)\u001b[0m\n\u001b[0;32m    399\u001b[0m \u001b[1;33m\u001b[0m\u001b[0m\n\u001b[0;32m    400\u001b[0m     \u001b[1;32mdef\u001b[0m \u001b[0m__init__\u001b[0m\u001b[1;33m(\u001b[0m\u001b[0mself\u001b[0m\u001b[1;33m,\u001b[0m \u001b[0mendog\u001b[0m\u001b[1;33m,\u001b[0m \u001b[0mexog\u001b[0m\u001b[1;33m,\u001b[0m \u001b[1;33m**\u001b[0m\u001b[0mkwargs\u001b[0m\u001b[1;33m)\u001b[0m\u001b[1;33m:\u001b[0m\u001b[1;33m\u001b[0m\u001b[0m\n\u001b[1;32m--> 401\u001b[1;33m         \u001b[0msuper\u001b[0m\u001b[1;33m(\u001b[0m\u001b[0mBinaryModel\u001b[0m\u001b[1;33m,\u001b[0m \u001b[0mself\u001b[0m\u001b[1;33m)\u001b[0m\u001b[1;33m.\u001b[0m\u001b[0m__init__\u001b[0m\u001b[1;33m(\u001b[0m\u001b[0mendog\u001b[0m\u001b[1;33m,\u001b[0m \u001b[0mexog\u001b[0m\u001b[1;33m,\u001b[0m \u001b[1;33m**\u001b[0m\u001b[0mkwargs\u001b[0m\u001b[1;33m)\u001b[0m\u001b[1;33m\u001b[0m\u001b[0m\n\u001b[0m\u001b[0;32m    402\u001b[0m         if (self.__class__.__name__ != 'MNLogit' and\n\u001b[0;32m    403\u001b[0m                 not np.all((self.endog >= 0) & (self.endog <= 1))):\n",
      "\u001b[1;32mc:\\anaconda\\lib\\site-packages\\statsmodels\\discrete\\discrete_model.py\u001b[0m in \u001b[0;36m__init__\u001b[1;34m(self, endog, exog, **kwargs)\u001b[0m\n\u001b[0;32m    152\u001b[0m     \"\"\"\n\u001b[0;32m    153\u001b[0m     \u001b[1;32mdef\u001b[0m \u001b[0m__init__\u001b[0m\u001b[1;33m(\u001b[0m\u001b[0mself\u001b[0m\u001b[1;33m,\u001b[0m \u001b[0mendog\u001b[0m\u001b[1;33m,\u001b[0m \u001b[0mexog\u001b[0m\u001b[1;33m,\u001b[0m \u001b[1;33m**\u001b[0m\u001b[0mkwargs\u001b[0m\u001b[1;33m)\u001b[0m\u001b[1;33m:\u001b[0m\u001b[1;33m\u001b[0m\u001b[0m\n\u001b[1;32m--> 154\u001b[1;33m         \u001b[0msuper\u001b[0m\u001b[1;33m(\u001b[0m\u001b[0mDiscreteModel\u001b[0m\u001b[1;33m,\u001b[0m \u001b[0mself\u001b[0m\u001b[1;33m)\u001b[0m\u001b[1;33m.\u001b[0m\u001b[0m__init__\u001b[0m\u001b[1;33m(\u001b[0m\u001b[0mendog\u001b[0m\u001b[1;33m,\u001b[0m \u001b[0mexog\u001b[0m\u001b[1;33m,\u001b[0m \u001b[1;33m**\u001b[0m\u001b[0mkwargs\u001b[0m\u001b[1;33m)\u001b[0m\u001b[1;33m\u001b[0m\u001b[0m\n\u001b[0m\u001b[0;32m    155\u001b[0m         \u001b[0mself\u001b[0m\u001b[1;33m.\u001b[0m\u001b[0mraise_on_perfect_prediction\u001b[0m \u001b[1;33m=\u001b[0m \u001b[0mTrue\u001b[0m\u001b[1;33m\u001b[0m\u001b[0m\n\u001b[0;32m    156\u001b[0m \u001b[1;33m\u001b[0m\u001b[0m\n",
      "\u001b[1;32mc:\\anaconda\\lib\\site-packages\\statsmodels\\base\\model.py\u001b[0m in \u001b[0;36m__init__\u001b[1;34m(self, endog, exog, **kwargs)\u001b[0m\n\u001b[0;32m    184\u001b[0m \u001b[1;33m\u001b[0m\u001b[0m\n\u001b[0;32m    185\u001b[0m     \u001b[1;32mdef\u001b[0m \u001b[0m__init__\u001b[0m\u001b[1;33m(\u001b[0m\u001b[0mself\u001b[0m\u001b[1;33m,\u001b[0m \u001b[0mendog\u001b[0m\u001b[1;33m,\u001b[0m \u001b[0mexog\u001b[0m\u001b[1;33m=\u001b[0m\u001b[0mNone\u001b[0m\u001b[1;33m,\u001b[0m \u001b[1;33m**\u001b[0m\u001b[0mkwargs\u001b[0m\u001b[1;33m)\u001b[0m\u001b[1;33m:\u001b[0m\u001b[1;33m\u001b[0m\u001b[0m\n\u001b[1;32m--> 186\u001b[1;33m         \u001b[0msuper\u001b[0m\u001b[1;33m(\u001b[0m\u001b[0mLikelihoodModel\u001b[0m\u001b[1;33m,\u001b[0m \u001b[0mself\u001b[0m\u001b[1;33m)\u001b[0m\u001b[1;33m.\u001b[0m\u001b[0m__init__\u001b[0m\u001b[1;33m(\u001b[0m\u001b[0mendog\u001b[0m\u001b[1;33m,\u001b[0m \u001b[0mexog\u001b[0m\u001b[1;33m,\u001b[0m \u001b[1;33m**\u001b[0m\u001b[0mkwargs\u001b[0m\u001b[1;33m)\u001b[0m\u001b[1;33m\u001b[0m\u001b[0m\n\u001b[0m\u001b[0;32m    187\u001b[0m         \u001b[0mself\u001b[0m\u001b[1;33m.\u001b[0m\u001b[0minitialize\u001b[0m\u001b[1;33m(\u001b[0m\u001b[1;33m)\u001b[0m\u001b[1;33m\u001b[0m\u001b[0m\n\u001b[0;32m    188\u001b[0m \u001b[1;33m\u001b[0m\u001b[0m\n",
      "\u001b[1;32mc:\\anaconda\\lib\\site-packages\\statsmodels\\base\\model.py\u001b[0m in \u001b[0;36m__init__\u001b[1;34m(self, endog, exog, **kwargs)\u001b[0m\n\u001b[0;32m     58\u001b[0m         \u001b[0mhasconst\u001b[0m \u001b[1;33m=\u001b[0m \u001b[0mkwargs\u001b[0m\u001b[1;33m.\u001b[0m\u001b[0mpop\u001b[0m\u001b[1;33m(\u001b[0m\u001b[1;34m'hasconst'\u001b[0m\u001b[1;33m,\u001b[0m \u001b[0mNone\u001b[0m\u001b[1;33m)\u001b[0m\u001b[1;33m\u001b[0m\u001b[0m\n\u001b[0;32m     59\u001b[0m         self.data = self._handle_data(endog, exog, missing, hasconst,\n\u001b[1;32m---> 60\u001b[1;33m                                       **kwargs)\n\u001b[0m\u001b[0;32m     61\u001b[0m         \u001b[0mself\u001b[0m\u001b[1;33m.\u001b[0m\u001b[0mk_constant\u001b[0m \u001b[1;33m=\u001b[0m \u001b[0mself\u001b[0m\u001b[1;33m.\u001b[0m\u001b[0mdata\u001b[0m\u001b[1;33m.\u001b[0m\u001b[0mk_constant\u001b[0m\u001b[1;33m\u001b[0m\u001b[0m\n\u001b[0;32m     62\u001b[0m         \u001b[0mself\u001b[0m\u001b[1;33m.\u001b[0m\u001b[0mexog\u001b[0m \u001b[1;33m=\u001b[0m \u001b[0mself\u001b[0m\u001b[1;33m.\u001b[0m\u001b[0mdata\u001b[0m\u001b[1;33m.\u001b[0m\u001b[0mexog\u001b[0m\u001b[1;33m\u001b[0m\u001b[0m\n",
      "\u001b[1;32mc:\\anaconda\\lib\\site-packages\\statsmodels\\base\\model.py\u001b[0m in \u001b[0;36m_handle_data\u001b[1;34m(self, endog, exog, missing, hasconst, **kwargs)\u001b[0m\n\u001b[0;32m     82\u001b[0m \u001b[1;33m\u001b[0m\u001b[0m\n\u001b[0;32m     83\u001b[0m     \u001b[1;32mdef\u001b[0m \u001b[0m_handle_data\u001b[0m\u001b[1;33m(\u001b[0m\u001b[0mself\u001b[0m\u001b[1;33m,\u001b[0m \u001b[0mendog\u001b[0m\u001b[1;33m,\u001b[0m \u001b[0mexog\u001b[0m\u001b[1;33m,\u001b[0m \u001b[0mmissing\u001b[0m\u001b[1;33m,\u001b[0m \u001b[0mhasconst\u001b[0m\u001b[1;33m,\u001b[0m \u001b[1;33m**\u001b[0m\u001b[0mkwargs\u001b[0m\u001b[1;33m)\u001b[0m\u001b[1;33m:\u001b[0m\u001b[1;33m\u001b[0m\u001b[0m\n\u001b[1;32m---> 84\u001b[1;33m         \u001b[0mdata\u001b[0m \u001b[1;33m=\u001b[0m \u001b[0mhandle_data\u001b[0m\u001b[1;33m(\u001b[0m\u001b[0mendog\u001b[0m\u001b[1;33m,\u001b[0m \u001b[0mexog\u001b[0m\u001b[1;33m,\u001b[0m \u001b[0mmissing\u001b[0m\u001b[1;33m,\u001b[0m \u001b[0mhasconst\u001b[0m\u001b[1;33m,\u001b[0m \u001b[1;33m**\u001b[0m\u001b[0mkwargs\u001b[0m\u001b[1;33m)\u001b[0m\u001b[1;33m\u001b[0m\u001b[0m\n\u001b[0m\u001b[0;32m     85\u001b[0m         \u001b[1;31m# kwargs arrays could have changed, easier to just attach here\u001b[0m\u001b[1;33m\u001b[0m\u001b[1;33m\u001b[0m\u001b[0m\n\u001b[0;32m     86\u001b[0m         \u001b[1;32mfor\u001b[0m \u001b[0mkey\u001b[0m \u001b[1;32min\u001b[0m \u001b[0mkwargs\u001b[0m\u001b[1;33m:\u001b[0m\u001b[1;33m\u001b[0m\u001b[0m\n",
      "\u001b[1;32mc:\\anaconda\\lib\\site-packages\\statsmodels\\base\\data.py\u001b[0m in \u001b[0;36mhandle_data\u001b[1;34m(endog, exog, missing, hasconst, **kwargs)\u001b[0m\n\u001b[0;32m    564\u001b[0m     \u001b[0mklass\u001b[0m \u001b[1;33m=\u001b[0m \u001b[0mhandle_data_class_factory\u001b[0m\u001b[1;33m(\u001b[0m\u001b[0mendog\u001b[0m\u001b[1;33m,\u001b[0m \u001b[0mexog\u001b[0m\u001b[1;33m)\u001b[0m\u001b[1;33m\u001b[0m\u001b[0m\n\u001b[0;32m    565\u001b[0m     return klass(endog, exog=exog, missing=missing, hasconst=hasconst,\n\u001b[1;32m--> 566\u001b[1;33m                  **kwargs)\n\u001b[0m",
      "\u001b[1;32mc:\\anaconda\\lib\\site-packages\\statsmodels\\base\\data.py\u001b[0m in \u001b[0;36m__init__\u001b[1;34m(self, endog, exog, missing, hasconst, **kwargs)\u001b[0m\n\u001b[0;32m     74\u001b[0m         \u001b[1;31m# this has side-effects, attaches k_constant and const_idx\u001b[0m\u001b[1;33m\u001b[0m\u001b[1;33m\u001b[0m\u001b[0m\n\u001b[0;32m     75\u001b[0m         \u001b[0mself\u001b[0m\u001b[1;33m.\u001b[0m\u001b[0m_handle_constant\u001b[0m\u001b[1;33m(\u001b[0m\u001b[0mhasconst\u001b[0m\u001b[1;33m)\u001b[0m\u001b[1;33m\u001b[0m\u001b[0m\n\u001b[1;32m---> 76\u001b[1;33m         \u001b[0mself\u001b[0m\u001b[1;33m.\u001b[0m\u001b[0m_check_integrity\u001b[0m\u001b[1;33m(\u001b[0m\u001b[1;33m)\u001b[0m\u001b[1;33m\u001b[0m\u001b[0m\n\u001b[0m\u001b[0;32m     77\u001b[0m         \u001b[0mself\u001b[0m\u001b[1;33m.\u001b[0m\u001b[0m_cache\u001b[0m \u001b[1;33m=\u001b[0m \u001b[0mresettable_cache\u001b[0m\u001b[1;33m(\u001b[0m\u001b[1;33m)\u001b[0m\u001b[1;33m\u001b[0m\u001b[0m\n\u001b[0;32m     78\u001b[0m \u001b[1;33m\u001b[0m\u001b[0m\n",
      "\u001b[1;32mc:\\anaconda\\lib\\site-packages\\statsmodels\\base\\data.py\u001b[0m in \u001b[0;36m_check_integrity\u001b[1;34m(self)\u001b[0m\n\u001b[0;32m    451\u001b[0m                 not self.orig_endog.index.equals(self.orig_exog.index)):\n\u001b[0;32m    452\u001b[0m             \u001b[1;32mraise\u001b[0m \u001b[0mValueError\u001b[0m\u001b[1;33m(\u001b[0m\u001b[1;34m\"The indices for endog and exog are not aligned\"\u001b[0m\u001b[1;33m)\u001b[0m\u001b[1;33m\u001b[0m\u001b[0m\n\u001b[1;32m--> 453\u001b[1;33m         \u001b[0msuper\u001b[0m\u001b[1;33m(\u001b[0m\u001b[0mPandasData\u001b[0m\u001b[1;33m,\u001b[0m \u001b[0mself\u001b[0m\u001b[1;33m)\u001b[0m\u001b[1;33m.\u001b[0m\u001b[0m_check_integrity\u001b[0m\u001b[1;33m(\u001b[0m\u001b[1;33m)\u001b[0m\u001b[1;33m\u001b[0m\u001b[0m\n\u001b[0m\u001b[0;32m    454\u001b[0m \u001b[1;33m\u001b[0m\u001b[0m\n\u001b[0;32m    455\u001b[0m     \u001b[1;32mdef\u001b[0m \u001b[0m_get_row_labels\u001b[0m\u001b[1;33m(\u001b[0m\u001b[0mself\u001b[0m\u001b[1;33m,\u001b[0m \u001b[0marr\u001b[0m\u001b[1;33m)\u001b[0m\u001b[1;33m:\u001b[0m\u001b[1;33m\u001b[0m\u001b[0m\n",
      "\u001b[1;32mc:\\anaconda\\lib\\site-packages\\statsmodels\\base\\data.py\u001b[0m in \u001b[0;36m_check_integrity\u001b[1;34m(self)\u001b[0m\n\u001b[0;32m    363\u001b[0m         \u001b[1;32mif\u001b[0m \u001b[0mself\u001b[0m\u001b[1;33m.\u001b[0m\u001b[0mexog\u001b[0m \u001b[1;32mis\u001b[0m \u001b[1;32mnot\u001b[0m \u001b[0mNone\u001b[0m\u001b[1;33m:\u001b[0m\u001b[1;33m\u001b[0m\u001b[0m\n\u001b[0;32m    364\u001b[0m             \u001b[1;32mif\u001b[0m \u001b[0mlen\u001b[0m\u001b[1;33m(\u001b[0m\u001b[0mself\u001b[0m\u001b[1;33m.\u001b[0m\u001b[0mexog\u001b[0m\u001b[1;33m)\u001b[0m \u001b[1;33m!=\u001b[0m \u001b[0mlen\u001b[0m\u001b[1;33m(\u001b[0m\u001b[0mself\u001b[0m\u001b[1;33m.\u001b[0m\u001b[0mendog\u001b[0m\u001b[1;33m)\u001b[0m\u001b[1;33m:\u001b[0m\u001b[1;33m\u001b[0m\u001b[0m\n\u001b[1;32m--> 365\u001b[1;33m                 \u001b[1;32mraise\u001b[0m \u001b[0mValueError\u001b[0m\u001b[1;33m(\u001b[0m\u001b[1;34m\"endog and exog matrices are different sizes\"\u001b[0m\u001b[1;33m)\u001b[0m\u001b[1;33m\u001b[0m\u001b[0m\n\u001b[0m\u001b[0;32m    366\u001b[0m \u001b[1;33m\u001b[0m\u001b[0m\n\u001b[0;32m    367\u001b[0m     \u001b[1;32mdef\u001b[0m \u001b[0mwrap_output\u001b[0m\u001b[1;33m(\u001b[0m\u001b[0mself\u001b[0m\u001b[1;33m,\u001b[0m \u001b[0mobj\u001b[0m\u001b[1;33m,\u001b[0m \u001b[0mhow\u001b[0m\u001b[1;33m=\u001b[0m\u001b[1;34m'columns'\u001b[0m\u001b[1;33m,\u001b[0m \u001b[0mnames\u001b[0m\u001b[1;33m=\u001b[0m\u001b[0mNone\u001b[0m\u001b[1;33m)\u001b[0m\u001b[1;33m:\u001b[0m\u001b[1;33m\u001b[0m\u001b[0m\n",
      "\u001b[1;31mValueError\u001b[0m: endog and exog matrices are different sizes"
     ]
    }
   ],
   "source": [
    "pro_res = smd.Probit(endog=[\"income\",\"round\",\"p_reg\",\"p_strong\",\"noise\",\"noise__p_reg\",\"noise__p_strong\"],exog=DD)"
   ]
  },
  {
   "cell_type": "code",
   "execution_count": null,
   "metadata": {
    "collapsed": true
   },
   "outputs": [],
   "source": []
  }
 ],
 "metadata": {
  "kernelspec": {
   "display_name": "Python 2",
   "language": "python",
   "name": "python2"
  },
  "language_info": {
   "codemirror_mode": {
    "name": "ipython",
    "version": 2
   },
   "file_extension": ".py",
   "mimetype": "text/x-python",
   "name": "python",
   "nbconvert_exporter": "python",
   "pygments_lexer": "ipython2",
   "version": "2.7.9"
  }
 },
 "nbformat": 4,
 "nbformat_minor": 0
}
